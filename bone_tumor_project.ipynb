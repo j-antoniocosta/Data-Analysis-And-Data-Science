{
  "cells": [
    {
      "cell_type": "markdown",
      "metadata": {
        "id": "I0KUY5HBGwQC"
      },
      "source": [
        "**UNIVERSIDADE FEDERAL DO ABC - UFABC**\n",
        "\n",
        "*CECS - Centro de Engenharia, Modelagem e Ciências Sociais Aplicadas*\n",
        "\n",
        "*Programa de Pós-Graduação em Engenharia da Informação*\n",
        "\n",
        "*INF317G - Inteligência Artificial Baseada em Evidências*\n",
        "\n",
        "\n",
        "```\n",
        "Profª Drª Priscyla Waleska Simões\n",
        "\n",
        "Discentes:\n",
        "*   Emanuel Cleyton Macedo Lemos\n",
        "*   João Antonio Marques Costa\n",
        "\n"
      ]
    },
    {
      "cell_type": "markdown",
      "metadata": {
        "id": "N5XmnF6aGqyz"
      },
      "source": [
        "\n",
        "\n",
        "---\n",
        "[*TRIPOD*] Título\n",
        "\n",
        "# Desenvolvimento de um Modelo Preditivo para Classificar o Grau de Agressividade do Tumor Ósseo em Pacientes do Centro de Câncer *Memorial Sloan Kettering*\n",
        "\n",
        "---\n",
        "\n"
      ]
    },
    {
      "cell_type": "markdown",
      "metadata": {
        "id": "SrrdgGxEInz7"
      },
      "source": [
        "[*TRIPOD*] Introdução - Antecedentes e objetivos\n",
        "\n",
        "## INTRODUÇÃO\n",
        "\n",
        "\n",
        "\n",
        "*   Um dos tipos de câncer menos frequente\n",
        "*   Prognóstico depende de diferentes fatores:\n",
        " *   tipo, localização, idade, estado geral, tratamento e resposta, entre outros\n",
        "* Tipos de tumores ósseos:\n",
        " * Osteossarcoma ([mais frequente](https://www.cancer.org/cancer/types/bone-cancer/about/key-statistics.html))\n",
        "    * se inicia nas células ósseas\n",
        "    * se desenvolve com mais frequência nos ossos dos braços, pernas e pelve\n",
        " * Condrossarcoma\n",
        "    * se desenvolve nas células que forma a cartilagem\n",
        " * Tumores de Ewing\n",
        "    * raro em adultos com mais de 30 anos\n",
        "    * locais mais frequentes são a pelve, parede torácica e ossos das pernas ou braços\n",
        " * Outros tipos: cordomas, sarcoma pleomófico indiferenciado de alto grau, fribrossarcoma, ...\n",
        "\n",
        "\n"
      ]
    },
    {
      "cell_type": "markdown",
      "metadata": {
        "id": "fWQRibBKYHUo"
      },
      "source": [
        "## Informação dos Dados\n",
        "\n",
        "\n",
        "[*TRIPOD*] Métodos - Fonte de dados\n",
        "*   Dados para aplicação dos algoritmos de ML obtidos no Kaggle:\n",
        "  * [Bone Tumor](https://www.kaggle.com/datasets/antimoni/bone-tumor)\n",
        "  * Autor: Prathap Kumar\n",
        "\n",
        "[*TRIPOD*] Métodos - Participantes\n",
        "* Origem dos dados:\n",
        "  * Dados coletados do Centro de Câncer Memorial Sloan Kettering ([MSKCC](https://www.mskcc.org/)), Estados Unidos\n",
        "  * Pacientes que foram diagnósticados com tumor ósseo entre 2010 e 2020\n",
        "  * Fontes: registros médicos, triagens clínicas, pesquisas com pacientes\n",
        "* Tratamento de dados pré-disponibilização pública:\n",
        "  * Dados anonimizados\n",
        "  * Dados limpados e verificados para garantir confiabilidade e precisão"
      ]
    },
    {
      "cell_type": "code",
      "execution_count": null,
      "metadata": {
        "colab": {
          "base_uri": "https://localhost:8080/",
          "height": 382
        },
        "id": "Zuw3u5ltXvSU",
        "outputId": "905bd9bc-fa88-4c67-fbe9-d4808994ad21"
      },
      "outputs": [
        {
          "data": {
            "text/html": [
              "\n",
              "  <div id=\"df-16993377-ef02-495f-9ba1-2847ef0e3d2d\" class=\"colab-df-container\">\n",
              "    <div>\n",
              "<style scoped>\n",
              "    .dataframe tbody tr th:only-of-type {\n",
              "        vertical-align: middle;\n",
              "    }\n",
              "\n",
              "    .dataframe tbody tr th {\n",
              "        vertical-align: top;\n",
              "    }\n",
              "\n",
              "    .dataframe thead th {\n",
              "        text-align: right;\n",
              "    }\n",
              "</style>\n",
              "<table border=\"1\" class=\"dataframe\">\n",
              "  <thead>\n",
              "    <tr style=\"text-align: right;\">\n",
              "      <th></th>\n",
              "      <th>Patient ID</th>\n",
              "      <th>Sex</th>\n",
              "      <th>Age</th>\n",
              "      <th>Grade</th>\n",
              "      <th>Histological type</th>\n",
              "      <th>MSKCC type</th>\n",
              "      <th>Site of primary STS</th>\n",
              "      <th>Status (NED, AWD, D)</th>\n",
              "      <th>Treatment</th>\n",
              "    </tr>\n",
              "  </thead>\n",
              "  <tbody>\n",
              "    <tr>\n",
              "      <th>0</th>\n",
              "      <td>STS_022</td>\n",
              "      <td>Female</td>\n",
              "      <td>63</td>\n",
              "      <td>High</td>\n",
              "      <td>pleiomorphic leiomyosarcoma</td>\n",
              "      <td>Leiomyosarcoma</td>\n",
              "      <td>parascapusular</td>\n",
              "      <td>NED</td>\n",
              "      <td>Radiotherapy + Surgery</td>\n",
              "    </tr>\n",
              "    <tr>\n",
              "      <th>1</th>\n",
              "      <td>STS_034</td>\n",
              "      <td>Female</td>\n",
              "      <td>54</td>\n",
              "      <td>Intermediate</td>\n",
              "      <td>pleiomorphic leiomyosarcoma</td>\n",
              "      <td>MFH</td>\n",
              "      <td>left thigh</td>\n",
              "      <td>D</td>\n",
              "      <td>Surgery + Chemotherapy</td>\n",
              "    </tr>\n",
              "    <tr>\n",
              "      <th>2</th>\n",
              "      <td>STS_022</td>\n",
              "      <td>Male</td>\n",
              "      <td>22</td>\n",
              "      <td>Intermediate</td>\n",
              "      <td>synovial sarcoma</td>\n",
              "      <td>MFH</td>\n",
              "      <td>right buttock</td>\n",
              "      <td>D</td>\n",
              "      <td>Radiotherapy + Surgery</td>\n",
              "    </tr>\n",
              "    <tr>\n",
              "      <th>3</th>\n",
              "      <td>STS_015</td>\n",
              "      <td>Female</td>\n",
              "      <td>54</td>\n",
              "      <td>Intermediate</td>\n",
              "      <td>synovial sarcoma</td>\n",
              "      <td>Leiomyosarcoma</td>\n",
              "      <td>right thigh</td>\n",
              "      <td>NED</td>\n",
              "      <td>Radiotherapy + Surgery</td>\n",
              "    </tr>\n",
              "    <tr>\n",
              "      <th>4</th>\n",
              "      <td>STS_037</td>\n",
              "      <td>Male</td>\n",
              "      <td>63</td>\n",
              "      <td>High</td>\n",
              "      <td>pleiomorphic spindle cell undifferentiated</td>\n",
              "      <td>MFH</td>\n",
              "      <td>right parascapusular</td>\n",
              "      <td>AWD</td>\n",
              "      <td>Radiotherapy + Surgery + Chemotherapy</td>\n",
              "    </tr>\n",
              "  </tbody>\n",
              "</table>\n",
              "</div>\n",
              "    <div class=\"colab-df-buttons\">\n",
              "\n",
              "  <div class=\"colab-df-container\">\n",
              "    <button class=\"colab-df-convert\" onclick=\"convertToInteractive('df-16993377-ef02-495f-9ba1-2847ef0e3d2d')\"\n",
              "            title=\"Convert this dataframe to an interactive table.\"\n",
              "            style=\"display:none;\">\n",
              "\n",
              "  <svg xmlns=\"http://www.w3.org/2000/svg\" height=\"24px\" viewBox=\"0 -960 960 960\">\n",
              "    <path d=\"M120-120v-720h720v720H120Zm60-500h600v-160H180v160Zm220 220h160v-160H400v160Zm0 220h160v-160H400v160ZM180-400h160v-160H180v160Zm440 0h160v-160H620v160ZM180-180h160v-160H180v160Zm440 0h160v-160H620v160Z\"/>\n",
              "  </svg>\n",
              "    </button>\n",
              "\n",
              "  <style>\n",
              "    .colab-df-container {\n",
              "      display:flex;\n",
              "      gap: 12px;\n",
              "    }\n",
              "\n",
              "    .colab-df-convert {\n",
              "      background-color: #E8F0FE;\n",
              "      border: none;\n",
              "      border-radius: 50%;\n",
              "      cursor: pointer;\n",
              "      display: none;\n",
              "      fill: #1967D2;\n",
              "      height: 32px;\n",
              "      padding: 0 0 0 0;\n",
              "      width: 32px;\n",
              "    }\n",
              "\n",
              "    .colab-df-convert:hover {\n",
              "      background-color: #E2EBFA;\n",
              "      box-shadow: 0px 1px 2px rgba(60, 64, 67, 0.3), 0px 1px 3px 1px rgba(60, 64, 67, 0.15);\n",
              "      fill: #174EA6;\n",
              "    }\n",
              "\n",
              "    .colab-df-buttons div {\n",
              "      margin-bottom: 4px;\n",
              "    }\n",
              "\n",
              "    [theme=dark] .colab-df-convert {\n",
              "      background-color: #3B4455;\n",
              "      fill: #D2E3FC;\n",
              "    }\n",
              "\n",
              "    [theme=dark] .colab-df-convert:hover {\n",
              "      background-color: #434B5C;\n",
              "      box-shadow: 0px 1px 3px 1px rgba(0, 0, 0, 0.15);\n",
              "      filter: drop-shadow(0px 1px 2px rgba(0, 0, 0, 0.3));\n",
              "      fill: #FFFFFF;\n",
              "    }\n",
              "  </style>\n",
              "\n",
              "    <script>\n",
              "      const buttonEl =\n",
              "        document.querySelector('#df-16993377-ef02-495f-9ba1-2847ef0e3d2d button.colab-df-convert');\n",
              "      buttonEl.style.display =\n",
              "        google.colab.kernel.accessAllowed ? 'block' : 'none';\n",
              "\n",
              "      async function convertToInteractive(key) {\n",
              "        const element = document.querySelector('#df-16993377-ef02-495f-9ba1-2847ef0e3d2d');\n",
              "        const dataTable =\n",
              "          await google.colab.kernel.invokeFunction('convertToInteractive',\n",
              "                                                    [key], {});\n",
              "        if (!dataTable) return;\n",
              "\n",
              "        const docLinkHtml = 'Like what you see? Visit the ' +\n",
              "          '<a target=\"_blank\" href=https://colab.research.google.com/notebooks/data_table.ipynb>data table notebook</a>'\n",
              "          + ' to learn more about interactive tables.';\n",
              "        element.innerHTML = '';\n",
              "        dataTable['output_type'] = 'display_data';\n",
              "        await google.colab.output.renderOutput(dataTable, element);\n",
              "        const docLink = document.createElement('div');\n",
              "        docLink.innerHTML = docLinkHtml;\n",
              "        element.appendChild(docLink);\n",
              "      }\n",
              "    </script>\n",
              "  </div>\n",
              "\n",
              "\n",
              "<div id=\"df-33e8f6bf-7321-4f84-819c-9727924a3245\">\n",
              "  <button class=\"colab-df-quickchart\" onclick=\"quickchart('df-33e8f6bf-7321-4f84-819c-9727924a3245')\"\n",
              "            title=\"Suggest charts\"\n",
              "            style=\"display:none;\">\n",
              "\n",
              "<svg xmlns=\"http://www.w3.org/2000/svg\" height=\"24px\"viewBox=\"0 0 24 24\"\n",
              "     width=\"24px\">\n",
              "    <g>\n",
              "        <path d=\"M19 3H5c-1.1 0-2 .9-2 2v14c0 1.1.9 2 2 2h14c1.1 0 2-.9 2-2V5c0-1.1-.9-2-2-2zM9 17H7v-7h2v7zm4 0h-2V7h2v10zm4 0h-2v-4h2v4z\"/>\n",
              "    </g>\n",
              "</svg>\n",
              "  </button>\n",
              "\n",
              "<style>\n",
              "  .colab-df-quickchart {\n",
              "      --bg-color: #E8F0FE;\n",
              "      --fill-color: #1967D2;\n",
              "      --hover-bg-color: #E2EBFA;\n",
              "      --hover-fill-color: #174EA6;\n",
              "      --disabled-fill-color: #AAA;\n",
              "      --disabled-bg-color: #DDD;\n",
              "  }\n",
              "\n",
              "  [theme=dark] .colab-df-quickchart {\n",
              "      --bg-color: #3B4455;\n",
              "      --fill-color: #D2E3FC;\n",
              "      --hover-bg-color: #434B5C;\n",
              "      --hover-fill-color: #FFFFFF;\n",
              "      --disabled-bg-color: #3B4455;\n",
              "      --disabled-fill-color: #666;\n",
              "  }\n",
              "\n",
              "  .colab-df-quickchart {\n",
              "    background-color: var(--bg-color);\n",
              "    border: none;\n",
              "    border-radius: 50%;\n",
              "    cursor: pointer;\n",
              "    display: none;\n",
              "    fill: var(--fill-color);\n",
              "    height: 32px;\n",
              "    padding: 0;\n",
              "    width: 32px;\n",
              "  }\n",
              "\n",
              "  .colab-df-quickchart:hover {\n",
              "    background-color: var(--hover-bg-color);\n",
              "    box-shadow: 0 1px 2px rgba(60, 64, 67, 0.3), 0 1px 3px 1px rgba(60, 64, 67, 0.15);\n",
              "    fill: var(--button-hover-fill-color);\n",
              "  }\n",
              "\n",
              "  .colab-df-quickchart-complete:disabled,\n",
              "  .colab-df-quickchart-complete:disabled:hover {\n",
              "    background-color: var(--disabled-bg-color);\n",
              "    fill: var(--disabled-fill-color);\n",
              "    box-shadow: none;\n",
              "  }\n",
              "\n",
              "  .colab-df-spinner {\n",
              "    border: 2px solid var(--fill-color);\n",
              "    border-color: transparent;\n",
              "    border-bottom-color: var(--fill-color);\n",
              "    animation:\n",
              "      spin 1s steps(1) infinite;\n",
              "  }\n",
              "\n",
              "  @keyframes spin {\n",
              "    0% {\n",
              "      border-color: transparent;\n",
              "      border-bottom-color: var(--fill-color);\n",
              "      border-left-color: var(--fill-color);\n",
              "    }\n",
              "    20% {\n",
              "      border-color: transparent;\n",
              "      border-left-color: var(--fill-color);\n",
              "      border-top-color: var(--fill-color);\n",
              "    }\n",
              "    30% {\n",
              "      border-color: transparent;\n",
              "      border-left-color: var(--fill-color);\n",
              "      border-top-color: var(--fill-color);\n",
              "      border-right-color: var(--fill-color);\n",
              "    }\n",
              "    40% {\n",
              "      border-color: transparent;\n",
              "      border-right-color: var(--fill-color);\n",
              "      border-top-color: var(--fill-color);\n",
              "    }\n",
              "    60% {\n",
              "      border-color: transparent;\n",
              "      border-right-color: var(--fill-color);\n",
              "    }\n",
              "    80% {\n",
              "      border-color: transparent;\n",
              "      border-right-color: var(--fill-color);\n",
              "      border-bottom-color: var(--fill-color);\n",
              "    }\n",
              "    90% {\n",
              "      border-color: transparent;\n",
              "      border-bottom-color: var(--fill-color);\n",
              "    }\n",
              "  }\n",
              "</style>\n",
              "\n",
              "  <script>\n",
              "    async function quickchart(key) {\n",
              "      const quickchartButtonEl =\n",
              "        document.querySelector('#' + key + ' button');\n",
              "      quickchartButtonEl.disabled = true;  // To prevent multiple clicks.\n",
              "      quickchartButtonEl.classList.add('colab-df-spinner');\n",
              "      try {\n",
              "        const charts = await google.colab.kernel.invokeFunction(\n",
              "            'suggestCharts', [key], {});\n",
              "      } catch (error) {\n",
              "        console.error('Error during call to suggestCharts:', error);\n",
              "      }\n",
              "      quickchartButtonEl.classList.remove('colab-df-spinner');\n",
              "      quickchartButtonEl.classList.add('colab-df-quickchart-complete');\n",
              "    }\n",
              "    (() => {\n",
              "      let quickchartButtonEl =\n",
              "        document.querySelector('#df-33e8f6bf-7321-4f84-819c-9727924a3245 button');\n",
              "      quickchartButtonEl.style.display =\n",
              "        google.colab.kernel.accessAllowed ? 'block' : 'none';\n",
              "    })();\n",
              "  </script>\n",
              "</div>\n",
              "    </div>\n",
              "  </div>\n"
            ],
            "text/plain": [
              "  Patient ID     Sex  Age         Grade  \\\n",
              "0    STS_022  Female   63          High   \n",
              "1    STS_034  Female   54  Intermediate   \n",
              "2    STS_022    Male   22  Intermediate   \n",
              "3    STS_015  Female   54  Intermediate   \n",
              "4    STS_037    Male   63          High   \n",
              "\n",
              "                            Histological type      MSKCC type  \\\n",
              "0                 pleiomorphic leiomyosarcoma  Leiomyosarcoma   \n",
              "1                 pleiomorphic leiomyosarcoma             MFH   \n",
              "2                            synovial sarcoma             MFH   \n",
              "3                            synovial sarcoma  Leiomyosarcoma   \n",
              "4  pleiomorphic spindle cell undifferentiated             MFH   \n",
              "\n",
              "    Site of primary STS Status (NED, AWD, D)  \\\n",
              "0        parascapusular                  NED   \n",
              "1            left thigh                    D   \n",
              "2         right buttock                    D   \n",
              "3           right thigh                  NED   \n",
              "4  right parascapusular                  AWD   \n",
              "\n",
              "                               Treatment  \n",
              "0                 Radiotherapy + Surgery  \n",
              "1                 Surgery + Chemotherapy  \n",
              "2                 Radiotherapy + Surgery  \n",
              "3                 Radiotherapy + Surgery  \n",
              "4  Radiotherapy + Surgery + Chemotherapy  "
            ]
          },
          "execution_count": 1,
          "metadata": {},
          "output_type": "execute_result"
        }
      ],
      "source": [
        "import pandas as pd\n",
        "import matplotlib.pyplot as plt\n",
        "import numpy as np\n",
        "import scipy.stats as st\n",
        "from sklearn import metrics\n",
        "from sklearn.preprocessing import LabelEncoder\n",
        "from sklearn.model_selection import train_test_split, GridSearchCV\n",
        "from sklearn.tree import DecisionTreeClassifier\n",
        "from sklearn.neighbors import KNeighborsClassifier\n",
        "from sklearn.naive_bayes import CategoricalNB\n",
        "from tqdm.notebook import tqdm\n",
        "from warnings import filterwarnings\n",
        "\n",
        "# Fonte dos dados originais no Kaggle: https://www.kaggle.com/datasets/antimoni/bone-tumor\n",
        "# o link abaixo foi obtido de repositório no GitHub: https://github.com/badcodepratices/Bone-Tumor-DataAnalysis\n",
        "filename = 'https://raw.githubusercontent.com/badcodepratices/Bone-Tumor-DataAnalysis/main/Bone%20Tumor%20Dataset.csv'\n",
        "\n",
        "data = pd.read_csv(filename)\n",
        "data.head()"
      ]
    },
    {
      "cell_type": "code",
      "execution_count": null,
      "metadata": {
        "id": "qa1G8ZUAZzGd"
      },
      "outputs": [],
      "source": [
        "# Remoção da coluna Patient ID que não será utilizado para o treinamento do classificador\n",
        "total_pop = len(data['Patient ID'])\n",
        "data.drop('Patient ID', axis=1, inplace=True)"
      ]
    },
    {
      "cell_type": "markdown",
      "metadata": {
        "id": "1BejbAx5T-JF"
      },
      "source": [
        "[*TRIPOD*] Métodos - Tamanho da amostra\n",
        "\n",
        "Lista de categorias x quantidade de registros para cada atributo presente na base de dados"
      ]
    },
    {
      "cell_type": "code",
      "execution_count": null,
      "metadata": {
        "colab": {
          "base_uri": "https://localhost:8080/"
        },
        "id": "NTRKVN7tq2sv",
        "outputId": "60180324-af49-4108-8826-869ec2f00ab0"
      },
      "outputs": [
        {
          "name": "stdout",
          "output_type": "stream",
          "text": [
            "RESUMO DE DADOS\n",
            "População (total de registros): 500\n",
            "\n",
            "\n",
            "============================================================\n",
            "Female    300\n",
            "Male      200\n",
            "Name: Sex, dtype: int64\n",
            "============================================================\n",
            "63    17\n",
            "41    17\n",
            "72    17\n",
            "45    16\n",
            "66    16\n",
            "      ..\n",
            "23     1\n",
            "19     1\n",
            "26     1\n",
            "29     1\n",
            "27     1\n",
            "Name: Age, Length: 65, dtype: int64\n",
            "============================================================\n",
            "Intermediate    282\n",
            "High            218\n",
            "Name: Grade, dtype: int64\n",
            "============================================================\n",
            "pleiomorphic leiomyosarcoma                   104\n",
            "synovial sarcoma                               73\n",
            "leiomyosarcoma                                 43\n",
            "myxofibrosarcoma                               40\n",
            "undifferentiated - pleiomorphic                34\n",
            "sclerosing epithelioid fibrosarcoma            33\n",
            "pleiomorphic spindle cell undifferentiated     29\n",
            "malignant solitary fibrous tumor               29\n",
            "undifferentiated pleomorphic liposarcoma       28\n",
            "myxoid fibrosarcoma                            27\n",
            "poorly differentiated synovial sarcoma         24\n",
            "pleomorphic sarcoma                            21\n",
            "epithelioid sarcoma                            15\n",
            "Name: Histological type, dtype: int64\n",
            "============================================================\n",
            "MFH                 225\n",
            "Leiomyosarcoma      144\n",
            "Synovial sarcoma    131\n",
            "Name: MSKCC type, dtype: int64\n",
            "============================================================\n",
            "left thigh              152\n",
            "right thigh             135\n",
            "right buttock            72\n",
            "parascapusular           39\n",
            "left biceps              36\n",
            "left buttock             36\n",
            "right parascapusular     30\n",
            "Name: Site of primary STS, dtype: int64\n",
            "============================================================\n",
            "NED    247\n",
            "D      141\n",
            "AWD    112\n",
            "Name: Status (NED, AWD, D), dtype: int64\n",
            "============================================================\n",
            "Radiotherapy + Surgery                   293\n",
            "Radiotherapy + Surgery + Chemotherapy    143\n",
            "Surgery + Chemotherapy                    64\n",
            "Name: Treatment, dtype: int64\n"
          ]
        }
      ],
      "source": [
        "print(\"RESUMO DE DADOS\")\n",
        "print(\"População (total de registros): {}\\n\\n\".format(total_pop))\n",
        "for col in data.columns:\n",
        "  print(\"=\"*60)\n",
        "  print(data[col].value_counts())"
      ]
    },
    {
      "cell_type": "markdown",
      "metadata": {
        "id": "c1Qxo9d0vjeR"
      },
      "source": [
        "[*TRIPOD*] Métodos - Dados ausentes\n",
        "\n",
        "(não há dados ausentes)"
      ]
    },
    {
      "cell_type": "code",
      "execution_count": null,
      "metadata": {
        "colab": {
          "base_uri": "https://localhost:8080/"
        },
        "id": "47Fx4Lxljdk-",
        "outputId": "dc95f165-f11f-4c08-a623-9094ff636174"
      },
      "outputs": [
        {
          "data": {
            "text/plain": [
              "Sex                     0\n",
              "Age                     0\n",
              "Grade                   0\n",
              "Histological type       0\n",
              "MSKCC type              0\n",
              "Site of primary STS     0\n",
              "Status (NED, AWD, D)    0\n",
              "Treatment               0\n",
              "dtype: int64"
            ]
          },
          "execution_count": 4,
          "metadata": {},
          "output_type": "execute_result"
        }
      ],
      "source": [
        "# verificando se existem dados nulos\n",
        "data.isnull().sum()"
      ]
    },
    {
      "cell_type": "markdown",
      "metadata": {
        "id": "5E_HxfJZUV2Z"
      },
      "source": [
        "## OBJETIVO\n",
        "\n",
        "O objetivo geral desta implementação foi verificar se os classificadores propostos conseguem acertar o grau do tumor com base nos outros atributos presentes na base de dados. Ou seja, o algoritmo deve apresentar o quão agressivo é o câncer, considerando duas classes: intermediária e alta."
      ]
    },
    {
      "cell_type": "markdown",
      "metadata": {
        "id": "fcBayg6EVaos"
      },
      "source": [
        "### Grau do tumor x Status\n",
        "\n",
        "O estado do paciente é categorizado como:\n",
        "\n",
        "*   NED - sem evidência da doença\n",
        "*   AWD - vivo com a doença\n",
        "*   D - morto\n",
        "\n",
        "O código abaixo mostra:\n",
        "1. dados de distribuição do Grau do tumor x Status x Quantidade de casos\n",
        "2. agrupa a quantidade de de D + AWD como categoria única\n",
        "3. matriz de distribuição\n",
        "\n"
      ]
    },
    {
      "cell_type": "code",
      "execution_count": null,
      "metadata": {
        "colab": {
          "base_uri": "https://localhost:8080/",
          "height": 667
        },
        "id": "kMQD-DcqyFER",
        "outputId": "7bed3fca-fda9-4784-ca6e-f5d5c2a01644"
      },
      "outputs": [
        {
          "name": "stdout",
          "output_type": "stream",
          "text": [
            "Grade         Status (NED, AWD, D)\n",
            "High          AWD                      90\n",
            "              D                        59\n",
            "              NED                      69\n",
            "Intermediate  AWD                      22\n",
            "              D                        82\n",
            "              NED                     178\n",
            "Name: Status (NED, AWD, D), dtype: int64\n",
            "\n",
            "[[149 104]\n",
            " [ 69 178]]\n"
          ]
        },
        {
          "data": {
            "text/plain": [
              "Text(0.5, 0, 'Grau')"
            ]
          },
          "execution_count": 5,
          "metadata": {},
          "output_type": "execute_result"
        },
        {
          "data": {
            "image/png": "[encoded data removed]",
            "text/plain": [
              "<Figure size 640x480 with 2 Axes>"
            ]
          },
          "metadata": {},
          "output_type": "display_data"
        }
      ],
      "source": [
        "dados = data.groupby(['Grade','Status (NED, AWD, D)'])['Status (NED, AWD, D)'].count()\n",
        "print(dados, end='\\n\\n')\n",
        "\n",
        "doente_morto = [dados.High.D + dados.High.AWD,\n",
        "                dados.Intermediate.D + dados.Intermediate.AWD]\n",
        "sem_doenca = [dados.High.NED, dados.Intermediate.NED]\n",
        "todos_casos = np.array([doente_morto, sem_doenca])\n",
        "print(todos_casos)\n",
        "\n",
        "metrics.ConfusionMatrixDisplay(todos_casos,\n",
        "                               display_labels=['Alto','Intermediário']\n",
        "                               ).plot()\n",
        "plt.yticks(ticks=[0,1], labels=['Com doença/Morto', 'Sem doença'])\n",
        "plt.ylabel(ylabel='Status')\n",
        "plt.xlabel(xlabel='Grau')"
      ]
    },
    {
      "cell_type": "markdown",
      "metadata": {
        "id": "DyjEalvDYMzo"
      },
      "source": [
        "Métricas baseadas na matriz: Grau x Status"
      ]
    },
    {
      "cell_type": "code",
      "execution_count": null,
      "metadata": {
        "colab": {
          "base_uri": "https://localhost:8080/"
        },
        "id": "DFBf1UxE_StJ",
        "outputId": "807088b7-65f1-4ddd-a706-c740d596a31b"
      },
      "outputs": [
        {
          "name": "stdout",
          "output_type": "stream",
          "text": [
            "Incidência de casos Graves sem evidência da doença: 0.28\n",
            "Incidência de casos Graves com doença ou morte: 0.59\n",
            "Risco relativo: 2.11\n",
            "Odds Ratio: 3.70\n"
          ]
        }
      ],
      "source": [
        "alto_doenca, interm_doenca, alto_sem_doenca, interm_sem_doenca = todos_casos.ravel()\n",
        "\n",
        "incidencia_doenca = alto_doenca / (alto_doenca + interm_doenca)\n",
        "incidencia_sem_doenca = alto_sem_doenca / (alto_sem_doenca + interm_sem_doenca)\n",
        "risco_relativo = incidencia_doenca / incidencia_sem_doenca\n",
        "\n",
        "odds_ratio = (alto_doenca * interm_sem_doenca) / (alto_sem_doenca * interm_doenca)\n",
        "\n",
        "\n",
        "print(\"Incidência de casos Graves sem evidência da doença: {:.2f}\".format(incidencia_sem_doenca))\n",
        "print(\"Incidência de casos Graves com doença ou morte: {:.2f}\".format(incidencia_doenca))\n",
        "# risco relativo de que casos graves apresentem\n",
        "# status de presença da doença ou morte\n",
        "print(\"Risco relativo: {:.2f}\".format(risco_relativo))\n",
        "\n",
        "print(\"Odds Ratio: {:.2f}\".format(odds_ratio))\n"
      ]
    },
    {
      "cell_type": "markdown",
      "metadata": {
        "id": "wlmHryCcZCf6"
      },
      "source": [
        "## MÉTODOS\n",
        "\n",
        "\n",
        "\n",
        "Os próximos passos seguidos foram:\n",
        "\n",
        "1. Pré-processamento dos dados\n",
        "> 1. Codificação dos dados\n",
        "> 2. Seleção do atributo de classe\n",
        "> 3. Seleção dos conjuntos de treino e de teste\n",
        "\n",
        "2. Criação dos modelos de aprendizagem de máquina\n",
        "> 1. Seleção de 3 técnicas (KNN, Árvore de decisão, Regras de Bayes)\n",
        "> 2. Verificação automática do melhor modelo e seus parâmetros\n",
        "\n",
        "3. Avaliação dos modelos\n",
        "> 1. Geração de métricas gerais\n",
        "> 2. Geração de outras métricas de avaliação do melhor modelo"
      ]
    },
    {
      "cell_type": "markdown",
      "metadata": {
        "id": "TZ_Z-mMNcji4"
      },
      "source": [
        "### [Pré-processamento]"
      ]
    },
    {
      "cell_type": "markdown",
      "metadata": {
        "id": "JXHvI45EYYEb"
      },
      "source": [
        "Codifica em categorias numéricas para ajuste do classificador"
      ]
    },
    {
      "cell_type": "code",
      "execution_count": null,
      "metadata": {
        "colab": {
          "base_uri": "https://localhost:8080/",
          "height": 241
        },
        "id": "3wiC8tREaLHq",
        "outputId": "10b17f3a-003c-45e5-b3ca-3ffbbd451c07"
      },
      "outputs": [
        {
          "data": {
            "text/html": [
              "\n",
              "  <div id=\"df-e516b80e-fe11-4a0c-a50b-2c86a74bdf2a\" class=\"colab-df-container\">\n",
              "    <div>\n",
              "<style scoped>\n",
              "    .dataframe tbody tr th:only-of-type {\n",
              "        vertical-align: middle;\n",
              "    }\n",
              "\n",
              "    .dataframe tbody tr th {\n",
              "        vertical-align: top;\n",
              "    }\n",
              "\n",
              "    .dataframe thead th {\n",
              "        text-align: right;\n",
              "    }\n",
              "</style>\n",
              "<table border=\"1\" class=\"dataframe\">\n",
              "  <thead>\n",
              "    <tr style=\"text-align: right;\">\n",
              "      <th></th>\n",
              "      <th>Sex</th>\n",
              "      <th>Age</th>\n",
              "      <th>Grade</th>\n",
              "      <th>Histological type</th>\n",
              "      <th>MSKCC type</th>\n",
              "      <th>Site of primary STS</th>\n",
              "      <th>Status (NED, AWD, D)</th>\n",
              "      <th>Treatment</th>\n",
              "    </tr>\n",
              "  </thead>\n",
              "  <tbody>\n",
              "    <tr>\n",
              "      <th>0</th>\n",
              "      <td>0</td>\n",
              "      <td>44</td>\n",
              "      <td>0</td>\n",
              "      <td>5</td>\n",
              "      <td>0</td>\n",
              "      <td>3</td>\n",
              "      <td>2</td>\n",
              "      <td>0</td>\n",
              "    </tr>\n",
              "    <tr>\n",
              "      <th>1</th>\n",
              "      <td>0</td>\n",
              "      <td>35</td>\n",
              "      <td>1</td>\n",
              "      <td>5</td>\n",
              "      <td>1</td>\n",
              "      <td>2</td>\n",
              "      <td>1</td>\n",
              "      <td>2</td>\n",
              "    </tr>\n",
              "    <tr>\n",
              "      <th>2</th>\n",
              "      <td>1</td>\n",
              "      <td>4</td>\n",
              "      <td>1</td>\n",
              "      <td>10</td>\n",
              "      <td>1</td>\n",
              "      <td>4</td>\n",
              "      <td>1</td>\n",
              "      <td>0</td>\n",
              "    </tr>\n",
              "    <tr>\n",
              "      <th>3</th>\n",
              "      <td>0</td>\n",
              "      <td>35</td>\n",
              "      <td>1</td>\n",
              "      <td>10</td>\n",
              "      <td>0</td>\n",
              "      <td>6</td>\n",
              "      <td>2</td>\n",
              "      <td>0</td>\n",
              "    </tr>\n",
              "    <tr>\n",
              "      <th>4</th>\n",
              "      <td>1</td>\n",
              "      <td>44</td>\n",
              "      <td>0</td>\n",
              "      <td>6</td>\n",
              "      <td>1</td>\n",
              "      <td>5</td>\n",
              "      <td>0</td>\n",
              "      <td>1</td>\n",
              "    </tr>\n",
              "  </tbody>\n",
              "</table>\n",
              "</div>\n",
              "    <div class=\"colab-df-buttons\">\n",
              "\n",
              "  <div class=\"colab-df-container\">\n",
              "    <button class=\"colab-df-convert\" onclick=\"convertToInteractive('df-e516b80e-fe11-4a0c-a50b-2c86a74bdf2a')\"\n",
              "            title=\"Convert this dataframe to an interactive table.\"\n",
              "            style=\"display:none;\">\n",
              "\n",
              "  <svg xmlns=\"http://www.w3.org/2000/svg\" height=\"24px\" viewBox=\"0 -960 960 960\">\n",
              "    <path d=\"M120-120v-720h720v720H120Zm60-500h600v-160H180v160Zm220 220h160v-160H400v160Zm0 220h160v-160H400v160ZM180-400h160v-160H180v160Zm440 0h160v-160H620v160ZM180-180h160v-160H180v160Zm440 0h160v-160H620v160Z\"/>\n",
              "  </svg>\n",
              "    </button>\n",
              "\n",
              "  <style>\n",
              "    .colab-df-container {\n",
              "      display:flex;\n",
              "      gap: 12px;\n",
              "    }\n",
              "\n",
              "    .colab-df-convert {\n",
              "      background-color: #E8F0FE;\n",
              "      border: none;\n",
              "      border-radius: 50%;\n",
              "      cursor: pointer;\n",
              "      display: none;\n",
              "      fill: #1967D2;\n",
              "      height: 32px;\n",
              "      padding: 0 0 0 0;\n",
              "      width: 32px;\n",
              "    }\n",
              "\n",
              "    .colab-df-convert:hover {\n",
              "      background-color: #E2EBFA;\n",
              "      box-shadow: 0px 1px 2px rgba(60, 64, 67, 0.3), 0px 1px 3px 1px rgba(60, 64, 67, 0.15);\n",
              "      fill: #174EA6;\n",
              "    }\n",
              "\n",
              "    .colab-df-buttons div {\n",
              "      margin-bottom: 4px;\n",
              "    }\n",
              "\n",
              "    [theme=dark] .colab-df-convert {\n",
              "      background-color: #3B4455;\n",
              "      fill: #D2E3FC;\n",
              "    }\n",
              "\n",
              "    [theme=dark] .colab-df-convert:hover {\n",
              "      background-color: #434B5C;\n",
              "      box-shadow: 0px 1px 3px 1px rgba(0, 0, 0, 0.15);\n",
              "      filter: drop-shadow(0px 1px 2px rgba(0, 0, 0, 0.3));\n",
              "      fill: #FFFFFF;\n",
              "    }\n",
              "  </style>\n",
              "\n",
              "    <script>\n",
              "      const buttonEl =\n",
              "        document.querySelector('#df-e516b80e-fe11-4a0c-a50b-2c86a74bdf2a button.colab-df-convert');\n",
              "      buttonEl.style.display =\n",
              "        google.colab.kernel.accessAllowed ? 'block' : 'none';\n",
              "\n",
              "      async function convertToInteractive(key) {\n",
              "        const element = document.querySelector('#df-e516b80e-fe11-4a0c-a50b-2c86a74bdf2a');\n",
              "        const dataTable =\n",
              "          await google.colab.kernel.invokeFunction('convertToInteractive',\n",
              "                                                    [key], {});\n",
              "        if (!dataTable) return;\n",
              "\n",
              "        const docLinkHtml = 'Like what you see? Visit the ' +\n",
              "          '<a target=\"_blank\" href=https://colab.research.google.com/notebooks/data_table.ipynb>data table notebook</a>'\n",
              "          + ' to learn more about interactive tables.';\n",
              "        element.innerHTML = '';\n",
              "        dataTable['output_type'] = 'display_data';\n",
              "        await google.colab.output.renderOutput(dataTable, element);\n",
              "        const docLink = document.createElement('div');\n",
              "        docLink.innerHTML = docLinkHtml;\n",
              "        element.appendChild(docLink);\n",
              "      }\n",
              "    </script>\n",
              "  </div>\n",
              "\n",
              "\n",
              "<div id=\"df-412a24fb-c244-44d7-a340-ac964bfdb29b\">\n",
              "  <button class=\"colab-df-quickchart\" onclick=\"quickchart('df-412a24fb-c244-44d7-a340-ac964bfdb29b')\"\n",
              "            title=\"Suggest charts\"\n",
              "            style=\"display:none;\">\n",
              "\n",
              "<svg xmlns=\"http://www.w3.org/2000/svg\" height=\"24px\"viewBox=\"0 0 24 24\"\n",
              "     width=\"24px\">\n",
              "    <g>\n",
              "        <path d=\"M19 3H5c-1.1 0-2 .9-2 2v14c0 1.1.9 2 2 2h14c1.1 0 2-.9 2-2V5c0-1.1-.9-2-2-2zM9 17H7v-7h2v7zm4 0h-2V7h2v10zm4 0h-2v-4h2v4z\"/>\n",
              "    </g>\n",
              "</svg>\n",
              "  </button>\n",
              "\n",
              "<style>\n",
              "  .colab-df-quickchart {\n",
              "      --bg-color: #E8F0FE;\n",
              "      --fill-color: #1967D2;\n",
              "      --hover-bg-color: #E2EBFA;\n",
              "      --hover-fill-color: #174EA6;\n",
              "      --disabled-fill-color: #AAA;\n",
              "      --disabled-bg-color: #DDD;\n",
              "  }\n",
              "\n",
              "  [theme=dark] .colab-df-quickchart {\n",
              "      --bg-color: #3B4455;\n",
              "      --fill-color: #D2E3FC;\n",
              "      --hover-bg-color: #434B5C;\n",
              "      --hover-fill-color: #FFFFFF;\n",
              "      --disabled-bg-color: #3B4455;\n",
              "      --disabled-fill-color: #666;\n",
              "  }\n",
              "\n",
              "  .colab-df-quickchart {\n",
              "    background-color: var(--bg-color);\n",
              "    border: none;\n",
              "    border-radius: 50%;\n",
              "    cursor: pointer;\n",
              "    display: none;\n",
              "    fill: var(--fill-color);\n",
              "    height: 32px;\n",
              "    padding: 0;\n",
              "    width: 32px;\n",
              "  }\n",
              "\n",
              "  .colab-df-quickchart:hover {\n",
              "    background-color: var(--hover-bg-color);\n",
              "    box-shadow: 0 1px 2px rgba(60, 64, 67, 0.3), 0 1px 3px 1px rgba(60, 64, 67, 0.15);\n",
              "    fill: var(--button-hover-fill-color);\n",
              "  }\n",
              "\n",
              "  .colab-df-quickchart-complete:disabled,\n",
              "  .colab-df-quickchart-complete:disabled:hover {\n",
              "    background-color: var(--disabled-bg-color);\n",
              "    fill: var(--disabled-fill-color);\n",
              "    box-shadow: none;\n",
              "  }\n",
              "\n",
              "  .colab-df-spinner {\n",
              "    border: 2px solid var(--fill-color);\n",
              "    border-color: transparent;\n",
              "    border-bottom-color: var(--fill-color);\n",
              "    animation:\n",
              "      spin 1s steps(1) infinite;\n",
              "  }\n",
              "\n",
              "  @keyframes spin {\n",
              "    0% {\n",
              "      border-color: transparent;\n",
              "      border-bottom-color: var(--fill-color);\n",
              "      border-left-color: var(--fill-color);\n",
              "    }\n",
              "    20% {\n",
              "      border-color: transparent;\n",
              "      border-left-color: var(--fill-color);\n",
              "      border-top-color: var(--fill-color);\n",
              "    }\n",
              "    30% {\n",
              "      border-color: transparent;\n",
              "      border-left-color: var(--fill-color);\n",
              "      border-top-color: var(--fill-color);\n",
              "      border-right-color: var(--fill-color);\n",
              "    }\n",
              "    40% {\n",
              "      border-color: transparent;\n",
              "      border-right-color: var(--fill-color);\n",
              "      border-top-color: var(--fill-color);\n",
              "    }\n",
              "    60% {\n",
              "      border-color: transparent;\n",
              "      border-right-color: var(--fill-color);\n",
              "    }\n",
              "    80% {\n",
              "      border-color: transparent;\n",
              "      border-right-color: var(--fill-color);\n",
              "      border-bottom-color: var(--fill-color);\n",
              "    }\n",
              "    90% {\n",
              "      border-color: transparent;\n",
              "      border-bottom-color: var(--fill-color);\n",
              "    }\n",
              "  }\n",
              "</style>\n",
              "\n",
              "  <script>\n",
              "    async function quickchart(key) {\n",
              "      const quickchartButtonEl =\n",
              "        document.querySelector('#' + key + ' button');\n",
              "      quickchartButtonEl.disabled = true;  // To prevent multiple clicks.\n",
              "      quickchartButtonEl.classList.add('colab-df-spinner');\n",
              "      try {\n",
              "        const charts = await google.colab.kernel.invokeFunction(\n",
              "            'suggestCharts', [key], {});\n",
              "      } catch (error) {\n",
              "        console.error('Error during call to suggestCharts:', error);\n",
              "      }\n",
              "      quickchartButtonEl.classList.remove('colab-df-spinner');\n",
              "      quickchartButtonEl.classList.add('colab-df-quickchart-complete');\n",
              "    }\n",
              "    (() => {\n",
              "      let quickchartButtonEl =\n",
              "        document.querySelector('#df-412a24fb-c244-44d7-a340-ac964bfdb29b button');\n",
              "      quickchartButtonEl.style.display =\n",
              "        google.colab.kernel.accessAllowed ? 'block' : 'none';\n",
              "    })();\n",
              "  </script>\n",
              "</div>\n",
              "    </div>\n",
              "  </div>\n"
            ],
            "text/plain": [
              "   Sex  Age  Grade  Histological type  MSKCC type  Site of primary STS  \\\n",
              "0    0   44      0                  5           0                    3   \n",
              "1    0   35      1                  5           1                    2   \n",
              "2    1    4      1                 10           1                    4   \n",
              "3    0   35      1                 10           0                    6   \n",
              "4    1   44      0                  6           1                    5   \n",
              "\n",
              "   Status (NED, AWD, D)  Treatment  \n",
              "0                     2          0  \n",
              "1                     1          2  \n",
              "2                     1          0  \n",
              "3                     2          0  \n",
              "4                     0          1  "
            ]
          },
          "execution_count": 7,
          "metadata": {},
          "output_type": "execute_result"
        }
      ],
      "source": [
        "le = LabelEncoder()\n",
        "data = data.apply(le.fit_transform)\n",
        "\n",
        "data.head()"
      ]
    },
    {
      "cell_type": "markdown",
      "metadata": {
        "id": "x2Ej4oC9JWk1"
      },
      "source": [
        "Divide os dados em X (atributos/features) e Y (classe)"
      ]
    },
    {
      "cell_type": "code",
      "execution_count": null,
      "metadata": {
        "id": "5DNLW4tUGVeK"
      },
      "outputs": [],
      "source": [
        "Y = data['Grade']\n",
        "X = data.drop('Grade', axis=1)"
      ]
    },
    {
      "cell_type": "code",
      "execution_count": null,
      "metadata": {
        "colab": {
          "base_uri": "https://localhost:8080/"
        },
        "id": "52crzkaP2c8f",
        "outputId": "53d35bc7-ada6-48ed-8b77-c96a6dcc035e"
      },
      "outputs": [
        {
          "data": {
            "text/plain": [
              "array([0, 1])"
            ]
          },
          "execution_count": 9,
          "metadata": {},
          "output_type": "execute_result"
        }
      ],
      "source": [
        "Y.unique()\n",
        "# 0 - High\n",
        "# 1 - Intermediate"
      ]
    },
    {
      "cell_type": "markdown",
      "metadata": {
        "id": "46j_HupVxHWm"
      },
      "source": [
        "[*TRIPOD*] Resultados - Participantes"
      ]
    },
    {
      "cell_type": "markdown",
      "metadata": {
        "id": "tx-JQBzjaNPq"
      },
      "source": [
        "Divisão dos dados em dois conjuntos: treino (70%) e teste (30%)"
      ]
    },
    {
      "cell_type": "code",
      "execution_count": null,
      "metadata": {
        "id": "q71r2vvMLdz7"
      },
      "outputs": [],
      "source": [
        "# separa dados em conjunto de treino e teste\n",
        "\n",
        "x_train, x_test, y_train, y_test = train_test_split(X, Y, test_size=0.3,\n",
        "                                                    random_state=7)"
      ]
    },
    {
      "cell_type": "code",
      "execution_count": null,
      "metadata": {
        "colab": {
          "base_uri": "https://localhost:8080/"
        },
        "id": "MdjISKGqxLhu",
        "outputId": "84b6c847-2d0b-48e1-97af-2efd2acc2067"
      },
      "outputs": [
        {
          "name": "stdout",
          "output_type": "stream",
          "text": [
            "Treino:  350\n",
            "Teste:  150\n"
          ]
        }
      ],
      "source": [
        "print('Treino: ',len(y_train))\n",
        "print('Teste: ',len(y_test))"
      ]
    },
    {
      "cell_type": "markdown",
      "metadata": {
        "id": "ru4LvlSaaSPI"
      },
      "source": [
        "Plota gráfico de distribuição dos dados conforme a classe para cada conjunto (treino e teste)"
      ]
    },
    {
      "cell_type": "code",
      "execution_count": null,
      "metadata": {
        "colab": {
          "base_uri": "https://localhost:8080/",
          "height": 1000
        },
        "id": "ojDu_KAK-xKh",
        "outputId": "98caa8c8-34e2-4177-d18c-5e29424ad58c"
      },
      "outputs": [
        {
          "data": {
            "image/png": "[encoded data removed]",
            "text/plain": [
              "<Figure size 640x480 with 1 Axes>"
            ]
          },
          "metadata": {},
          "output_type": "display_data"
        },
        {
          "data": {
            "image/png": "[encoded data removed]",
            "text/plain": [
              "<Figure size 640x480 with 1 Axes>"
            ]
          },
          "metadata": {},
          "output_type": "display_data"
        }
      ],
      "source": [
        "# distribuição dos dados nos conjuntos de treino e teste\n",
        "def gera_graficos(conjunto, titulo):\n",
        "  cont = conjunto.value_counts()\n",
        "  grade = pd.DataFrame(data=np.array(cont), index=['Intermediário', 'Alto'])\n",
        "\n",
        "  grade.plot(kind='bar', title=titulo,\n",
        "             ylabel='Quantidade', legend=False)\n",
        "\n",
        "gera_graficos(y_train, 'Dados de treino')\n",
        "gera_graficos(y_test, 'Dados de teste')"
      ]
    },
    {
      "cell_type": "markdown",
      "metadata": {
        "id": "XLTnP2c8coD0"
      },
      "source": [
        "### [Criação do modelo]"
      ]
    },
    {
      "cell_type": "markdown",
      "metadata": {
        "id": "b_I0xWL2c0vW"
      },
      "source": [
        "As técnicas de aprendizagem de máquina selecionados para verificar os melhores ajustes foram:\n",
        "\n",
        "* Árvore de decisão:\n",
        "  * método de aprendizagem supervisionada\n",
        "  * cada nó da árvore é um ponto de decisão que leva a um ramo, dependendo do resultado\n",
        "  * utiliza métodos como entropia e índice gini para verificar atributos com melhor ganho de informação, colocando em nós no topo da árvore\n",
        "\n",
        "* K-vizinhos mais próximos:\n",
        "  * classifica cada registro avaliando a sua distância em relação aos vizinhos mais próximos (no caso deste estudo, k=2)\n",
        "  * a classe da maioria dos vizinhos define a classe do registro\n",
        "\n",
        "\n",
        "* Regras de Bayes:\n",
        "  * gera um conjunto de probabilidades aplicando o teorema de Bayes verificando as probabilidades de ocorrência ou não de uma classe\n",
        "  * supõe independência condicional entre cada par de atributo"
      ]
    },
    {
      "cell_type": "markdown",
      "metadata": {
        "id": "otXVnZH_JVTQ"
      },
      "source": [
        "Seleção automática dos melhores parâmetros para cada modelo"
      ]
    },
    {
      "cell_type": "markdown",
      "metadata": {
        "id": "xKNmnYNO1M6q"
      },
      "source": [
        "[*TRIPOD*] Métodos - Métodos de análise estatística - 10a, 10b\n",
        "\n",
        "[*TRIPOD*] Resultados - Desenvolvimento do modelo - 14a\n",
        "\n",
        "[*TRIPOD*] Resultados - Especificação do modelo - 15a e 15b"
      ]
    },
    {
      "cell_type": "code",
      "execution_count": null,
      "metadata": {
        "colab": {
          "base_uri": "https://localhost:8080/",
          "height": 360,
          "referenced_widgets": [
            "3e365e0368544233a1b1733df635c69e",
            "188c3385f75a4d13a7958c7228990369",
            "3d7e05c1652543368ae635a5b69fe690",
            "8b4fad84b3a743309d01e37489a91aa4",
            "c18c07573da045c1ba5a09baf0384ea6",
            "e7e493e926104468beb9f122c9897e9a",
            "2d6cc4a1e71e44828ff04c02d577db07",
            "731ff3957812453ebe31e39ecfeb4a7a",
            "61943d3c290941518582f7b21db941e0",
            "cdd860c0ff804d238b5dc532f5ccfe2a",
            "9b154ab7f12543b585cec075d004ab78"
          ]
        },
        "id": "6I54XTrh7mGN",
        "outputId": "7f1b9234-cbaa-47a9-855e-90e03a3bd3c0"
      },
      "outputs": [
        {
          "data": {
            "application/vnd.jupyter.widget-view+json": {
              "model_id": "3e365e0368544233a1b1733df635c69e",
              "version_major": 2,
              "version_minor": 0
            },
            "text/plain": [
              "  0%|          | 0/3 [00:00<?, ?it/s]"
            ]
          },
          "metadata": {},
          "output_type": "display_data"
        },
        {
          "name": "stdout",
          "output_type": "stream",
          "text": [
            "Melhores valores obtidos pelo ajuste automático: \n",
            "\n"
          ]
        },
        {
          "data": {
            "text/plain": [
              "{'tree': {'best_estimator': DecisionTreeClassifier(max_depth=5, max_features='auto', random_state=7),\n",
              "  'best_score': 0.7257142857142858,\n",
              "  'best_params': {'criterion': 'gini',\n",
              "   'max_depth': 5,\n",
              "   'max_features': 'auto',\n",
              "   'random_state': 7}},\n",
              " 'knn': {'best_estimator': KNeighborsClassifier(metric='manhattan', n_neighbors=2, weights='distance'),\n",
              "  'best_score': 0.6342857142857142,\n",
              "  'best_params': {'algorithm': 'auto',\n",
              "   'metric': 'manhattan',\n",
              "   'n_neighbors': 2,\n",
              "   'weights': 'distance'}},\n",
              " 'bayes': {'best_estimator': CategoricalNB(alpha=10.0, force_alpha=True),\n",
              "  'best_score': 0.74,\n",
              "  'best_params': {'alpha': 10.0, 'force_alpha': True}}}"
            ]
          },
          "execution_count": 13,
          "metadata": {},
          "output_type": "execute_result"
        }
      ],
      "source": [
        "\n",
        "filterwarnings('ignore')\n",
        "\n",
        "seed = 7\n",
        "\n",
        "estimators = {'tree': DecisionTreeClassifier(),\n",
        "              'knn': KNeighborsClassifier(),\n",
        "              'bayes': CategoricalNB()\n",
        "              }\n",
        "\n",
        "params = {'tree': {'criterion': ['gini','entropy'],\n",
        "                          'max_depth': range(3,10),\n",
        "                          'max_features': ['auto', 'sqrt', 'log2'],\n",
        "                          'random_state': [seed]},\n",
        "          'knn': {'n_neighbors': [2],\n",
        "                  'algorithm': ['auto','ball_tree','kd_tree','brute'],\n",
        "                  'weights': ['uniform','distance'],\n",
        "                  'metric': ['euclidean', 'manhattan','minkowsk']},\n",
        "          'bayes': {'alpha': [0.01, 0.1, 1.0, 10.0],\n",
        "                    'force_alpha': [True]}\n",
        "          }\n",
        "\n",
        "best_values = dict()\n",
        "for estimator in tqdm(estimators):\n",
        "  grid = GridSearchCV(estimators[estimator], params[estimator])\n",
        "  grid.fit(x_train, y_train)\n",
        "  best_values[estimator] = {\n",
        "      'best_estimator': grid.best_estimator_,\n",
        "      'best_score': grid.best_score_,\n",
        "      'best_params': grid.best_params_\n",
        "  }\n",
        "\n",
        "print('Melhores valores obtidos pelo ajuste automático: \\n')\n",
        "best_values"
      ]
    },
    {
      "cell_type": "markdown",
      "metadata": {
        "id": "CKbVj3hdlVoe"
      },
      "source": [
        "## RESULTADOS"
      ]
    },
    {
      "cell_type": "markdown",
      "metadata": {
        "id": "E0yXmseSldVF"
      },
      "source": [
        "### [Avaliação dos modelos]"
      ]
    },
    {
      "cell_type": "markdown",
      "metadata": {
        "id": "t2BbrAhJxyb_"
      },
      "source": [
        "[*TRIPOD*] Métodos - Métodos de análise estatística - 10c, 10d\n",
        "\n",
        "[*TRIPOD*] Resultados - Especificação do modelo - 15b"
      ]
    },
    {
      "cell_type": "markdown",
      "metadata": {
        "id": "arR7PWM9sXjr"
      },
      "source": [
        "Verificação dos modelos para cada melhor configuração de parâmetro após ajuste automático\n",
        "\n",
        "São geradas algumas métricas para comparação dos modelos construídos: [*TRIPOD*] - item 16\n",
        "* Acurácia\n",
        "* Área da Curva ROC (e gráfico)\n",
        "* Matriz de confusão"
      ]
    },
    {
      "cell_type": "code",
      "execution_count": null,
      "metadata": {
        "colab": {
          "base_uri": "https://localhost:8080/",
          "height": 1000
        },
        "id": "P65yvxDALzcy",
        "outputId": "95e9e0cb-2dbe-4040-930c-955311cc7c3b"
      },
      "outputs": [
        {
          "name": "stdout",
          "output_type": "stream",
          "text": [
            "\n",
            "Tipo do Classificador: <class 'sklearn.tree._classes.DecisionTreeClassifier'>\n",
            "\n",
            "--- Métricas de avaliação ----\n",
            "Acurácia: 79.33 %\n",
            "Area da Curva ROC: 0.7737268518518519\n",
            "\n",
            "Validação cruzada :\n",
            "col_0   0   1\n",
            "Grade        \n",
            "0      38  16\n",
            "1      15  81\n",
            "\n",
            "              precision    recall  f1-score   support\n",
            "\n",
            "           0       0.72      0.70      0.71        54\n",
            "           1       0.84      0.84      0.84        96\n",
            "\n",
            "    accuracy                           0.79       150\n",
            "   macro avg       0.78      0.77      0.77       150\n",
            "weighted avg       0.79      0.79      0.79       150\n",
            "\n",
            "============================================================\n",
            "\n",
            "Tipo do Classificador: <class 'sklearn.neighbors._classification.KNeighborsClassifier'>\n",
            "\n",
            "--- Métricas de avaliação ----\n",
            "Acurácia: 68.00 %\n",
            "Area da Curva ROC: 0.697337962962963\n",
            "\n",
            "Validação cruzada :\n",
            "col_0   0   1\n",
            "Grade        \n",
            "0      41  13\n",
            "1      35  61\n",
            "\n",
            "              precision    recall  f1-score   support\n",
            "\n",
            "           0       0.54      0.76      0.63        54\n",
            "           1       0.82      0.64      0.72        96\n",
            "\n",
            "    accuracy                           0.68       150\n",
            "   macro avg       0.68      0.70      0.67       150\n",
            "weighted avg       0.72      0.68      0.69       150\n",
            "\n",
            "============================================================\n",
            "\n",
            "Tipo do Classificador: <class 'sklearn.naive_bayes.CategoricalNB'>\n",
            "\n",
            "--- Métricas de avaliação ----\n",
            "Acurácia: 82.67 %\n",
            "Area da Curva ROC: 0.7997685185185186\n",
            "\n",
            "Validação cruzada :\n",
            "col_0   0   1\n",
            "Grade        \n",
            "0      38  16\n",
            "1      10  86\n",
            "\n",
            "              precision    recall  f1-score   support\n",
            "\n",
            "           0       0.79      0.70      0.75        54\n",
            "           1       0.84      0.90      0.87        96\n",
            "\n",
            "    accuracy                           0.83       150\n",
            "   macro avg       0.82      0.80      0.81       150\n",
            "weighted avg       0.82      0.83      0.82       150\n",
            "\n",
            "============================================================\n"
          ]
        },
        {
          "data": {
            "image/png": "[encoded data removed]",
            "text/plain": [
              "<Figure size 640x480 with 1 Axes>"
            ]
          },
          "metadata": {},
          "output_type": "display_data"
        },
        {
          "data": {
            "image/png": "[encoded data removed]",
            "text/plain": [
              "<Figure size 640x480 with 2 Axes>"
            ]
          },
          "metadata": {},
          "output_type": "display_data"
        },
        {
          "data": {
            "image/png": "[encoded data removed]",
            "text/plain": [
              "<Figure size 640x480 with 2 Axes>"
            ]
          },
          "metadata": {},
          "output_type": "display_data"
        },
        {
          "data": {
            "image/png": "[encoded data removed]",
            "text/plain": [
              "<Figure size 640x480 with 2 Axes>"
            ]
          },
          "metadata": {},
          "output_type": "display_data"
        }
      ],
      "source": [
        "ax1 = plt.axes()\n",
        "\n",
        "model, clf = dict(), dict()\n",
        "\n",
        "for key, values in best_values.items():\n",
        "  model[key] = estimators[key].set_params(**values['best_params'])\n",
        "  clf[key] = model[key].fit(x_train, y_train)\n",
        "  y_pred = clf[key].predict(x_test)\n",
        "\n",
        "  print('\\nTipo do Classificador: {}\\n'.format(type(model[key])))\n",
        "\n",
        "  print(\"--- Métricas de avaliação ----\")\n",
        "  print(\"Acurácia: {:.2f} %\".format(metrics.accuracy_score(y_test, y_pred) * 100))\n",
        "  print('Area da Curva ROC: {}'.format(metrics.roc_auc_score(y_test, y_pred)))\n",
        "\n",
        "  print('\\nValidação cruzada :')\n",
        "  print(pd.crosstab(y_test, y_pred))\n",
        "\n",
        "  print()\n",
        "  print(metrics.classification_report(y_test, y_pred))\n",
        "\n",
        "  cf_matrix = metrics.confusion_matrix(y_test, y_pred)\n",
        "\n",
        "  cm_display = metrics.ConfusionMatrixDisplay(cf_matrix,\n",
        "                                              display_labels=['High','Intermediate'])\n",
        "  cm_display.plot()\n",
        "  cm_display.ax_.set_title(label='Modelo: '+key.upper())\n",
        "\n",
        "  metrics.RocCurveDisplay.from_predictions(y_true=y_test,\n",
        "                                           y_pred=y_pred,\n",
        "                                           ax=ax1, name=key)\n",
        "\n",
        "  print('='*60)\n",
        "\n",
        "plt.show()\n"
      ]
    },
    {
      "cell_type": "code",
      "execution_count": null,
      "metadata": {
        "colab": {
          "base_uri": "https://localhost:8080/",
          "height": 472
        },
        "id": "i6jkFUHGYlBc",
        "outputId": "6eb10ad8-3fac-47f7-c3cf-be5087a0ca09"
      },
      "outputs": [
        {
          "data": {
            "image/png": "[encoded data removed]",
            "text/plain": [
              "<Figure size 640x480 with 1 Axes>"
            ]
          },
          "metadata": {},
          "output_type": "display_data"
        }
      ],
      "source": [
        "import scikitplot as skplt\n",
        "\n",
        "# Estimativas de probabilidade de retorno para o vetor de features do conjunto de teste\n",
        "y_probas = clf['bayes'].predict_proba(x_test)\n",
        "\n",
        "skplt.metrics.plot_roc_curve(y_test, y_probas, curves='each_class')\n",
        "plt.show()"
      ]
    },
    {
      "cell_type": "markdown",
      "metadata": {
        "id": "oUPuhQrEyGYH"
      },
      "source": [
        "[*TRIPOD*] Resultados - Desempenho do modelo - item 16"
      ]
    },
    {
      "cell_type": "markdown",
      "metadata": {
        "id": "d1ReUZMbyxuU"
      },
      "source": [
        "Evidências geradas a partir do melhor modelo"
      ]
    },
    {
      "cell_type": "code",
      "execution_count": null,
      "metadata": {
        "colab": {
          "base_uri": "https://localhost:8080/"
        },
        "id": "g7vDZY_gdJiu",
        "outputId": "80257edc-126b-4477-a600-a13251c9ed27"
      },
      "outputs": [
        {
          "name": "stdout",
          "output_type": "stream",
          "text": [
            "Resumo de métricas de avaliação para o melhor resultado\n",
            "Modelo gerado pelo classificador CategoricalNB\n",
            "\n",
            "Quantidade de casos de teste para avaliar algoritmo: 150\n",
            "\n",
            "Acurácia: 0.83\n",
            "Taxa de verdadeiro positivo | recall | sensibilidade: 0.90\n",
            "Taxa de falso negativo (taxa de erros da IA): 0.10\n",
            "Taxa de falso positivo (probabilidade de alarme falso): 0.30\n",
            "Taxa de verdadeiro negativo | especificidade: 0.70\n",
            "Prevalencia: 0.64\n",
            "Precisão | Valor preditivo verdadeiro: 0.84\n",
            "Taxa de falsa omissão: 0.21\n",
            "Taxa de verossimilhança positiva: 3.02\n",
            "Taxa de verossimilhança negativa: 0.15\n",
            "Taxa de descoberta falsa: 0.16\n",
            "Valor preditivo negativo: 0.79\n",
            "\n",
            "Diagnostic Odds Ratio: 20.43\n"
          ]
        }
      ],
      "source": [
        "tn, fp, fn, tp = cf_matrix.ravel()\n",
        "\n",
        "print(\"Resumo de métricas de avaliação para o melhor resultado\")\n",
        "print(\"Modelo gerado pelo classificador CategoricalNB\\n\")\n",
        "\n",
        "pop = tn + fp + fn + tp\n",
        "print(f\"Quantidade de casos de teste para avaliar algoritmo: {pop}\\n\")\n",
        "\n",
        "acc = (tp + tn)/pop\n",
        "tpr_sensitivity = tp / (tp + fn)\n",
        "fnr = fn / (tp + fn)\n",
        "fpr = fp / (fp + tn)\n",
        "tnr_specificity = tn / (fp + tn)\n",
        "prevalence = (tp + fn) / pop\n",
        "precision = tp / (tp + fp)\n",
        "for_omission_rate = fn / (fn + tn)\n",
        "fdr = fp / (tp + fp)\n",
        "npv = tn / (fn + tn)\n",
        "\n",
        "pos_LR = tpr_sensitivity / (1 - tnr_specificity)\n",
        "neg_LR = (1 - tpr_sensitivity) / tnr_specificity\n",
        "\n",
        "print(\"Acurácia: {:.2f}\".format(acc))\n",
        "print(\"Taxa de verdadeiro positivo | recall | sensibilidade: {:.2f}\".format(tpr_sensitivity))\n",
        "print(\"Taxa de falso negativo (taxa de erros da IA): {:.2f}\".format(fnr))\n",
        "print(\"Taxa de falso positivo (probabilidade de alarme falso): {:.2f}\".format(fpr))\n",
        "print(\"Taxa de verdadeiro negativo | especificidade: {:.2f}\".format(tnr_specificity))\n",
        "print(\"Prevalencia: {:.2f}\".format(prevalence))\n",
        "print(\"Precisão | Valor preditivo verdadeiro: {:.2f}\".format(precision))\n",
        "print(\"Taxa de falsa omissão: {:.2f}\".format(for_omission_rate))\n",
        "print(\"Taxa de verossimilhança positiva: {:.2f}\".format(pos_LR))\n",
        "print(\"Taxa de verossimilhança negativa: {:.2f}\".format(neg_LR))\n",
        "print(\"Taxa de descoberta falsa: {:.2f}\".format(fdr))\n",
        "print(\"Valor preditivo negativo: {:.2f}\".format(npv))\n",
        "\n",
        "dor = pos_LR / neg_LR\n",
        "print(\"\\nDiagnostic Odds Ratio: {:.2f}\".format(dor))\n"
      ]
    },
    {
      "cell_type": "markdown",
      "metadata": {
        "id": "td5KbN2Sl74v"
      },
      "source": [
        "Intervalo de confiança (95%)"
      ]
    },
    {
      "cell_type": "code",
      "execution_count": null,
      "metadata": {
        "colab": {
          "base_uri": "https://localhost:8080/"
        },
        "id": "xKOaloOS45vV",
        "outputId": "17ae46e7-b585-4d00-80e9-a7b42774ddb0"
      },
      "outputs": [
        {
          "name": "stdout",
          "output_type": "stream",
          "text": [
            "Intervalo de confiança: [0.5622969726149908, 0.7177030273850092]\n"
          ]
        }
      ],
      "source": [
        "ci_menos, ci_mais = st.t.interval(confidence=0.95, df=len(y_test)-1,\n",
        "              loc=np.mean(y_test), scale=st.sem(y_test))\n",
        "\n",
        "print(f'Intervalo de confiança: [{ci_menos}, {ci_mais}]')"
      ]
    },
    {
      "cell_type": "markdown",
      "metadata": {
        "id": "Bpxf2Ik_lwm5"
      },
      "source": [
        "## DISCUSSÃO"
      ]
    },
    {
      "cell_type": "markdown",
      "metadata": {
        "id": "m38ndk60lz_6"
      },
      "source": [
        "\n",
        "\n",
        "*   Melhor modelo: CategoricalNB (Naive Bayes)\n",
        "\n",
        "[*TRIPOD*] Discussão - Interpretação - item 19a\n",
        "*   Evidências para cada 100 pacientes:\n",
        "  * o classificador acerta mais para casos com grau de alta agressividade do tumor:\n",
        "     * 90 são classificadas corretamente com grau alto\n",
        "     * 70 são classificadas com grau intermediário\n",
        "  * a probabilidade de classificar um paciente com grau de alta agressividade do tumor quando o caso seria de grau intermediário é de 3.02\n",
        "\n",
        "[*TRIPOD*] Discussão - Implicações - item 20\n",
        "* Implicações:\n",
        "  * o modelo tem potencial para sugerir casos de maior agressividade do tumor como uma 'segunda opinião' ao médico especialista visando sugerir casos que necessitem de uma investigação mais aprofundada e acompanhamento\n",
        "\n",
        "[*TRIPOD*] Discussão - Limitações - item 18\n",
        "* Limitações:\n",
        "  * dados contém apenas casos em que houve a presença da doença, classificando em dois níveis de agressividade\n",
        "  \n",
        "\n"
      ]
    },
    {
      "cell_type": "markdown",
      "metadata": {
        "id": "n0ygPy-7yuhf"
      },
      "source": [
        "\n",
        "\n",
        "---\n",
        "\n",
        "## Referências"
      ]
    },
    {
      "cell_type": "markdown",
      "metadata": {
        "id": "yC6QyvsUy0jZ"
      },
      "source": [
        "[1] Sharma A, Yadav DP, Garg H, Kumar M, Sharma B, Koundal D. Bone Cancer Detection Using Feature\n",
        "Extraction Based Machine Learning Model. Comput Math Methods Med. 2021 Dec 20;2021:7433186. doi:\n",
        "10.1155/2021/7433186. PMID: 34966444; PMCID: PMC8712164.\n",
        "\n",
        "\n",
        "[2] von Schacky CE, Wilhelm NJ, Schäfer VS, Leonhardt Y, Jung M, Jungmann PM, Russe MF, Foreman SC,\n",
        "Gassert FG, Gassert FT, Schwaiger BJ, Mogler C, Knebel C, von Eisenhart-Rothe R, Makowski MR, Woertler\n",
        "K, Burgkart R, Gersing AS. Development and evaluation of machine learning models based on X-ray\n",
        "radiomics for the classification and differentiation of malignant and benign bone tumors. Eur Radiol. 2022\n",
        "Sep;32(9):6247-6257. doi: 10.1007/s00330-022-08764-w. Epub 2022 Apr 9. PMID: 35396665; PMCID:\n",
        "PMC9381439.\n",
        "\n",
        "\n",
        "[3] Kumar, Narinder & Gupta, Bhawna. (2016). Global incidence of primary malignant bone tumors. Current\n",
        "Orthopaedic Practice. 27. 530-534.\n",
        "\n",
        "\n",
        "[4] Prathap Kumar. Bone Tumor. Disponível em: https://www.kaggle.com/datasets/antimoni/bone-tumor. Acessado em: nov/2023"
      ]
    }
  ],
  "metadata": {
    "colab": {
      "provenance": []
    },
    "kernelspec": {
      "display_name": "Python 3",
      "name": "python3"
    },
    "language_info": {
      "name": "python"
    },
    "widgets": {
      "application/vnd.jupyter.widget-state+json": {
        "188c3385f75a4d13a7958c7228990369": {
          "model_module": "@jupyter-widgets/controls",
          "model_module_version": "1.5.0",
          "model_name": "HTMLModel",
          "state": {
            "_dom_classes": [],
            "_model_module": "@jupyter-widgets/controls",
            "_model_module_version": "1.5.0",
            "_model_name": "HTMLModel",
            "_view_count": null,
            "_view_module": "@jupyter-widgets/controls",
            "_view_module_version": "1.5.0",
            "_view_name": "HTMLView",
            "description": "",
            "description_tooltip": null,
            "layout": "IPY_MODEL_e7e493e926104468beb9f122c9897e9a",
            "placeholder": "​",
            "style": "IPY_MODEL_2d6cc4a1e71e44828ff04c02d577db07",
            "value": "100%"
          }
        },
        "2d6cc4a1e71e44828ff04c02d577db07": {
          "model_module": "@jupyter-widgets/controls",
          "model_module_version": "1.5.0",
          "model_name": "DescriptionStyleModel",
          "state": {
            "_model_module": "@jupyter-widgets/controls",
            "_model_module_version": "1.5.0",
            "_model_name": "DescriptionStyleModel",
            "_view_count": null,
            "_view_module": "@jupyter-widgets/base",
            "_view_module_version": "1.2.0",
            "_view_name": "StyleView",
            "description_width": ""
          }
        },
        "3d7e05c1652543368ae635a5b69fe690": {
          "model_module": "@jupyter-widgets/controls",
          "model_module_version": "1.5.0",
          "model_name": "FloatProgressModel",
          "state": {
            "_dom_classes": [],
            "_model_module": "@jupyter-widgets/controls",
            "_model_module_version": "1.5.0",
            "_model_name": "FloatProgressModel",
            "_view_count": null,
            "_view_module": "@jupyter-widgets/controls",
            "_view_module_version": "1.5.0",
            "_view_name": "ProgressView",
            "bar_style": "success",
            "description": "",
            "description_tooltip": null,
            "layout": "IPY_MODEL_731ff3957812453ebe31e39ecfeb4a7a",
            "max": 3,
            "min": 0,
            "orientation": "horizontal",
            "style": "IPY_MODEL_61943d3c290941518582f7b21db941e0",
            "value": 3
          }
        },
        "3e365e0368544233a1b1733df635c69e": {
          "model_module": "@jupyter-widgets/controls",
          "model_module_version": "1.5.0",
          "model_name": "HBoxModel",
          "state": {
            "_dom_classes": [],
            "_model_module": "@jupyter-widgets/controls",
            "_model_module_version": "1.5.0",
            "_model_name": "HBoxModel",
            "_view_count": null,
            "_view_module": "@jupyter-widgets/controls",
            "_view_module_version": "1.5.0",
            "_view_name": "HBoxView",
            "box_style": "",
            "children": [
              "IPY_MODEL_188c3385f75a4d13a7958c7228990369",
              "IPY_MODEL_3d7e05c1652543368ae635a5b69fe690",
              "IPY_MODEL_8b4fad84b3a743309d01e37489a91aa4"
            ],
            "layout": "IPY_MODEL_c18c07573da045c1ba5a09baf0384ea6"
          }
        },
        "61943d3c290941518582f7b21db941e0": {
          "model_module": "@jupyter-widgets/controls",
          "model_module_version": "1.5.0",
          "model_name": "ProgressStyleModel",
          "state": {
            "_model_module": "@jupyter-widgets/controls",
            "_model_module_version": "1.5.0",
            "_model_name": "ProgressStyleModel",
            "_view_count": null,
            "_view_module": "@jupyter-widgets/base",
            "_view_module_version": "1.2.0",
            "_view_name": "StyleView",
            "bar_color": null,
            "description_width": ""
          }
        },
        "731ff3957812453ebe31e39ecfeb4a7a": {
          "model_module": "@jupyter-widgets/base",
          "model_module_version": "1.2.0",
          "model_name": "LayoutModel",
          "state": {
            "_model_module": "@jupyter-widgets/base",
            "_model_module_version": "1.2.0",
            "_model_name": "LayoutModel",
            "_view_count": null,
            "_view_module": "@jupyter-widgets/base",
            "_view_module_version": "1.2.0",
            "_view_name": "LayoutView",
            "align_content": null,
            "align_items": null,
            "align_self": null,
            "border": null,
            "bottom": null,
            "display": null,
            "flex": null,
            "flex_flow": null,
            "grid_area": null,
            "grid_auto_columns": null,
            "grid_auto_flow": null,
            "grid_auto_rows": null,
            "grid_column": null,
            "grid_gap": null,
            "grid_row": null,
            "grid_template_areas": null,
            "grid_template_columns": null,
            "grid_template_rows": null,
            "height": null,
            "justify_content": null,
            "justify_items": null,
            "left": null,
            "margin": null,
            "max_height": null,
            "max_width": null,
            "min_height": null,
            "min_width": null,
            "object_fit": null,
            "object_position": null,
            "order": null,
            "overflow": null,
            "overflow_x": null,
            "overflow_y": null,
            "padding": null,
            "right": null,
            "top": null,
            "visibility": null,
            "width": null
          }
        },
        "8b4fad84b3a743309d01e37489a91aa4": {
          "model_module": "@jupyter-widgets/controls",
          "model_module_version": "1.5.0",
          "model_name": "HTMLModel",
          "state": {
            "_dom_classes": [],
            "_model_module": "@jupyter-widgets/controls",
            "_model_module_version": "1.5.0",
            "_model_name": "HTMLModel",
            "_view_count": null,
            "_view_module": "@jupyter-widgets/controls",
            "_view_module_version": "1.5.0",
            "_view_name": "HTMLView",
            "description": "",
            "description_tooltip": null,
            "layout": "IPY_MODEL_cdd860c0ff804d238b5dc532f5ccfe2a",
            "placeholder": "​",
            "style": "IPY_MODEL_9b154ab7f12543b585cec075d004ab78",
            "value": " 3/3 [00:04&lt;00:00,  1.22s/it]"
          }
        },
        "9b154ab7f12543b585cec075d004ab78": {
          "model_module": "@jupyter-widgets/controls",
          "model_module_version": "1.5.0",
          "model_name": "DescriptionStyleModel",
          "state": {
            "_model_module": "@jupyter-widgets/controls",
            "_model_module_version": "1.5.0",
            "_model_name": "DescriptionStyleModel",
            "_view_count": null,
            "_view_module": "@jupyter-widgets/base",
            "_view_module_version": "1.2.0",
            "_view_name": "StyleView",
            "description_width": ""
          }
        },
        "c18c07573da045c1ba5a09baf0384ea6": {
          "model_module": "@jupyter-widgets/base",
          "model_module_version": "1.2.0",
          "model_name": "LayoutModel",
          "state": {
            "_model_module": "@jupyter-widgets/base",
            "_model_module_version": "1.2.0",
            "_model_name": "LayoutModel",
            "_view_count": null,
            "_view_module": "@jupyter-widgets/base",
            "_view_module_version": "1.2.0",
            "_view_name": "LayoutView",
            "align_content": null,
            "align_items": null,
            "align_self": null,
            "border": null,
            "bottom": null,
            "display": null,
            "flex": null,
            "flex_flow": null,
            "grid_area": null,
            "grid_auto_columns": null,
            "grid_auto_flow": null,
            "grid_auto_rows": null,
            "grid_column": null,
            "grid_gap": null,
            "grid_row": null,
            "grid_template_areas": null,
            "grid_template_columns": null,
            "grid_template_rows": null,
            "height": null,
            "justify_content": null,
            "justify_items": null,
            "left": null,
            "margin": null,
            "max_height": null,
            "max_width": null,
            "min_height": null,
            "min_width": null,
            "object_fit": null,
            "object_position": null,
            "order": null,
            "overflow": null,
            "overflow_x": null,
            "overflow_y": null,
            "padding": null,
            "right": null,
            "top": null,
            "visibility": null,
            "width": null
          }
        },
        "cdd860c0ff804d238b5dc532f5ccfe2a": {
          "model_module": "@jupyter-widgets/base",
          "model_module_version": "1.2.0",
          "model_name": "LayoutModel",
          "state": {
            "_model_module": "@jupyter-widgets/base",
            "_model_module_version": "1.2.0",
            "_model_name": "LayoutModel",
            "_view_count": null,
            "_view_module": "@jupyter-widgets/base",
            "_view_module_version": "1.2.0",
            "_view_name": "LayoutView",
            "align_content": null,
            "align_items": null,
            "align_self": null,
            "border": null,
            "bottom": null,
            "display": null,
            "flex": null,
            "flex_flow": null,
            "grid_area": null,
            "grid_auto_columns": null,
            "grid_auto_flow": null,
            "grid_auto_rows": null,
            "grid_column": null,
            "grid_gap": null,
            "grid_row": null,
            "grid_template_areas": null,
            "grid_template_columns": null,
            "grid_template_rows": null,
            "height": null,
            "justify_content": null,
            "justify_items": null,
            "left": null,
            "margin": null,
            "max_height": null,
            "max_width": null,
            "min_height": null,
            "min_width": null,
            "object_fit": null,
            "object_position": null,
            "order": null,
            "overflow": null,
            "overflow_x": null,
            "overflow_y": null,
            "padding": null,
            "right": null,
            "top": null,
            "visibility": null,
            "width": null
          }
        },
        "e7e493e926104468beb9f122c9897e9a": {
          "model_module": "@jupyter-widgets/base",
          "model_module_version": "1.2.0",
          "model_name": "LayoutModel",
          "state": {
            "_model_module": "@jupyter-widgets/base",
            "_model_module_version": "1.2.0",
            "_model_name": "LayoutModel",
            "_view_count": null,
            "_view_module": "@jupyter-widgets/base",
            "_view_module_version": "1.2.0",
            "_view_name": "LayoutView",
            "align_content": null,
            "align_items": null,
            "align_self": null,
            "border": null,
            "bottom": null,
            "display": null,
            "flex": null,
            "flex_flow": null,
            "grid_area": null,
            "grid_auto_columns": null,
            "grid_auto_flow": null,
            "grid_auto_rows": null,
            "grid_column": null,
            "grid_gap": null,
            "grid_row": null,
            "grid_template_areas": null,
            "grid_template_columns": null,
            "grid_template_rows": null,
            "height": null,
            "justify_content": null,
            "justify_items": null,
            "left": null,
            "margin": null,
            "max_height": null,
            "max_width": null,
            "min_height": null,
            "min_width": null,
            "object_fit": null,
            "object_position": null,
            "order": null,
            "overflow": null,
            "overflow_x": null,
            "overflow_y": null,
            "padding": null,
            "right": null,
            "top": null,
            "visibility": null,
            "width": null
          }
        }
      }
    }
  },
  "nbformat": 4,
  "nbformat_minor": 0
}
